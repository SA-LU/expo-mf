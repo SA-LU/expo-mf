{
 "metadata": {
  "name": "",
  "signature": "sha256:ddada592dda8b4346a1189b7cec226342f8fcd56f5e46b154d4014fdc54e86f8"
 },
 "nbformat": 3,
 "nbformat_minor": 0,
 "worksheets": [
  {
   "cells": [
    {
     "cell_type": "code",
     "collapsed": false,
     "input": [
      "import glob\n",
      "import json\n",
      "import os\n",
      "# if you are using OPENBLAS, you might want to turn this option on. Otherwise, joblib might get stuck\n",
      "# os.environ['OPENBLAS_NUM_THREADS'] = '1'\n",
      "\n",
      "import numpy as np\n",
      "import matplotlib\n",
      "matplotlib.use('Agg')\n",
      "import matplotlib.pyplot as plt\n",
      "%matplotlib inline\n",
      "import scipy.sparse\n",
      "import pandas as pd"
     ],
     "language": "python",
     "metadata": {},
     "outputs": [],
     "prompt_number": 1
    },
    {
     "cell_type": "code",
     "collapsed": false,
     "input": [
      "import social_poexpomf\n",
      "import rec_eval"
     ],
     "language": "python",
     "metadata": {},
     "outputs": [],
     "prompt_number": 2
    },
    {
     "cell_type": "code",
     "collapsed": false,
     "input": [
      "DATA_ROOT = '/home/waldorf/dawen.liang/data/douban/pro'"
     ],
     "language": "python",
     "metadata": {},
     "outputs": [],
     "prompt_number": 3
    },
    {
     "cell_type": "code",
     "collapsed": false,
     "input": [
      "train_data_raw = np.loadtxt(os.path.join(DATA_ROOT, 'train.tsv'), dtype='int32')"
     ],
     "language": "python",
     "metadata": {},
     "outputs": [],
     "prompt_number": 4
    },
    {
     "cell_type": "code",
     "collapsed": false,
     "input": [
      "uid_to_idx = {k: v for v, k in enumerate(np.unique(train_data_raw[:, 0]))}"
     ],
     "language": "python",
     "metadata": {},
     "outputs": [],
     "prompt_number": 5
    },
    {
     "cell_type": "code",
     "collapsed": false,
     "input": [
      "iid_to_idx = {k: v for v, k in enumerate(np.unique(train_data_raw[:, 1]))}"
     ],
     "language": "python",
     "metadata": {},
     "outputs": [],
     "prompt_number": 6
    },
    {
     "cell_type": "code",
     "collapsed": false,
     "input": [
      "rows_train = [uid_to_idx[i] for i in train_data_raw[:, 0]]"
     ],
     "language": "python",
     "metadata": {},
     "outputs": [],
     "prompt_number": 7
    },
    {
     "cell_type": "code",
     "collapsed": false,
     "input": [
      "cols_train = [iid_to_idx[i] for i in train_data_raw[:, 1]]"
     ],
     "language": "python",
     "metadata": {},
     "outputs": [],
     "prompt_number": 8
    },
    {
     "cell_type": "code",
     "collapsed": false,
     "input": [
      "n_users = max(rows_train) + 1\n",
      "n_items = max(cols_train) + 1"
     ],
     "language": "python",
     "metadata": {},
     "outputs": [],
     "prompt_number": 9
    },
    {
     "cell_type": "code",
     "collapsed": false,
     "input": [
      "train_data = scipy.sparse.csr_matrix((train_data_raw[:, 2], (rows_train, cols_train)), \n",
      "                                     dtype='int32', shape=(n_users, n_items))"
     ],
     "language": "python",
     "metadata": {},
     "outputs": [],
     "prompt_number": 10
    },
    {
     "cell_type": "code",
     "collapsed": false,
     "input": [
      "train_data"
     ],
     "language": "python",
     "metadata": {},
     "outputs": [
      {
       "metadata": {},
       "output_type": "pyout",
       "prompt_number": 11,
       "text": [
        "<129109x56879 sparse matrix of type '<type 'numpy.int32'>'\n",
        "\twith 14979416 stored elements in Compressed Sparse Row format>"
       ]
      }
     ],
     "prompt_number": 11
    },
    {
     "cell_type": "code",
     "collapsed": false,
     "input": [
      "vad_data_raw = np.loadtxt(os.path.join(DATA_ROOT, 'validation.tsv'), dtype='int32')"
     ],
     "language": "python",
     "metadata": {},
     "outputs": [],
     "prompt_number": 12
    },
    {
     "cell_type": "code",
     "collapsed": false,
     "input": [
      "data_vad = []\n",
      "rows_vad = []\n",
      "cols_vad = []\n",
      "\n",
      "for i, j, d in zip(vad_data_raw[:, 0], vad_data_raw[:, 1], vad_data_raw[:, 2]):\n",
      "    if i in uid_to_idx and j in iid_to_idx:\n",
      "        data_vad.append(d)\n",
      "        rows_vad.append(uid_to_idx[i])\n",
      "        cols_vad.append(iid_to_idx[j])\n",
      "    else:\n",
      "        print(\"Failed to add user-item pair (%d, %d)\" % (i, j))"
     ],
     "language": "python",
     "metadata": {},
     "outputs": [
      {
       "output_type": "stream",
       "stream": "stdout",
       "text": [
        "Failed to add user-item pair (295, 8350)\n",
        "Failed to add user-item pair (295, 9025)\n",
        "Failed to add user-item pair (2581, 233)\n",
        "Failed to add user-item pair (3542, 17291)\n",
        "Failed to add user-item pair (4584, 18781)\n",
        "Failed to add user-item pair (6364, 20962)\n",
        "Failed to add user-item pair (7621, 22019)\n",
        "Failed to add user-item pair (16288, 221)\n",
        "Failed to add user-item pair (16981, 28627)\n",
        "Failed to add user-item pair (16981, 28719)\n",
        "Failed to add user-item pair (17978, 29264)\n",
        "Failed to add user-item pair (21815, 30670)\n",
        "Failed to add user-item pair (24611, 869)\n",
        "Failed to add user-item pair (24759, 32336)\n",
        "Failed to add user-item pair (26729, 33048)\n",
        "Failed to add user-item pair (29220, 34040)"
       ]
      },
      {
       "output_type": "stream",
       "stream": "stdout",
       "text": [
        "\n",
        "Failed to add user-item pair (29403, 34465)\n",
        "Failed to add user-item pair (29403, 34360)\n",
        "Failed to add user-item pair (29403, 34333)\n",
        "Failed to add user-item pair (30024, 34723)\n",
        "Failed to add user-item pair (30870, 35038)\n",
        "Failed to add user-item pair (32123, 153)\n",
        "Failed to add user-item pair (32831, 35571)\n",
        "Failed to add user-item pair (33088, 35798)\n",
        "Failed to add user-item pair (34481, 153)\n",
        "Failed to add user-item pair (35672, 36654)\n",
        "Failed to add user-item pair (36388, 36944)\n",
        "Failed to add user-item pair (37065, 284)\n",
        "Failed to add user-item pair (37331, 2850)\n",
        "Failed to add user-item pair (37704, 37321)\n",
        "Failed to add user-item pair (38076, 37426)\n",
        "Failed to add user-item pair (38925, 37664)\n",
        "Failed to add user-item pair (39555, 37842)\n",
        "Failed to add user-item pair (39703, 37947)\n",
        "Failed to add user-item pair (39818, 37989)\n",
        "Failed to add user-item pair (41158, 12347)\n",
        "Failed to add user-item pair (41595, 38484)\n",
        "Failed to add user-item pair (41656, 12958)\n",
        "Failed to add user-item pair (42826, 38808)\n",
        "Failed to add user-item pair (43633, 38992)\n",
        "Failed to add user-item pair (46608, 39764)\n",
        "Failed to add user-item pair (46716, 42083)\n",
        "Failed to add user-item pair (46716, 40445)\n",
        "Failed to add user-item pair (46716, 39829)\n",
        "Failed to add user-item pair (46716, 42028)\n",
        "Failed to add user-item pair (46716, 40774)\n",
        "Failed to add user-item pair (46716, 40753)\n",
        "Failed to add user-item pair (46716, 41137)\n",
        "Failed to add user-item pair (46716, 41269)\n",
        "Failed to add user-item pair (46716, 41033)\n",
        "Failed to add user-item pair (46716, 40702)\n",
        "Failed to add user-item pair (46716, 40075)\n",
        "Failed to add user-item pair (46716, 41154)\n",
        "Failed to add user-item pair (46716, 40336)\n",
        "Failed to add user-item pair (46716, 41196)\n",
        "Failed to add user-item pair (46716, 39928)\n",
        "Failed to add user-item pair (46716, 40994)\n",
        "Failed to add user-item pair (46716, 40358)\n",
        "Failed to add user-item pair (46716, 40291)\n",
        "Failed to add user-item pair (46716, 39930)\n",
        "Failed to add user-item pair (47114, 42387)\n",
        "Failed to add user-item pair (47138, 42396)\n",
        "Failed to add user-item pair (47138, 42429)\n",
        "Failed to add user-item pair (48023, 42754)\n",
        "Failed to add user-item pair (48671, 42876)\n",
        "Failed to add user-item pair (48674, 42887)\n",
        "Failed to add user-item pair (48776, 42910)\n",
        "Failed to add user-item pair (49562, 43011)\n",
        "Failed to add user-item pair (49893, 43060)\n",
        "Failed to add user-item pair (50785, 43288)\n",
        "Failed to add user-item pair (50975, 43329)\n",
        "Failed to add user-item pair (51269, 43410)\n",
        "Failed to add user-item pair (52066, 6)\n",
        "Failed to add user-item pair (53096, 43837)\n",
        "Failed to add user-item pair (53412, 43896)\n",
        "Failed to add user-item pair (53429, 346)\n",
        "Failed to add user-item pair (53641, 7144)\n",
        "Failed to add user-item pair (53742, 4493)\n",
        "Failed to add user-item pair (53915, 44042)\n",
        "Failed to add user-item pair (54880, 44231)\n",
        "Failed to add user-item pair (55990, 44512)\n",
        "Failed to add user-item pair (55998, 44528)\n",
        "Failed to add user-item pair (56673, 2389)\n",
        "Failed to add user-item pair (59103, 132)"
       ]
      },
      {
       "output_type": "stream",
       "stream": "stdout",
       "text": [
        "\n",
        "Failed to add user-item pair (60877, 45756)\n",
        "Failed to add user-item pair (61171, 45822)\n",
        "Failed to add user-item pair (61220, 45856)\n",
        "Failed to add user-item pair (61625, 3815)\n",
        "Failed to add user-item pair (62142, 46165)\n",
        "Failed to add user-item pair (70531, 46684)\n",
        "Failed to add user-item pair (73195, 46930)\n",
        "Failed to add user-item pair (76642, 47395)\n",
        "Failed to add user-item pair (77889, 47620)\n",
        "Failed to add user-item pair (78232, 47959)\n",
        "Failed to add user-item pair (78232, 47840)\n",
        "Failed to add user-item pair (78232, 47834)\n",
        "Failed to add user-item pair (78725, 48171)\n",
        "Failed to add user-item pair (79309, 48408)\n",
        "Failed to add user-item pair (79310, 48423)\n",
        "Failed to add user-item pair (80096, 48754)\n",
        "Failed to add user-item pair (80096, 48825)\n",
        "Failed to add user-item pair (81137, 49080)\n",
        "Failed to add user-item pair (81426, 49144)\n",
        "Failed to add user-item pair (81864, 49489)\n",
        "Failed to add user-item pair (82828, 49604)\n",
        "Failed to add user-item pair (84960, 49733)\n",
        "Failed to add user-item pair (85871, 1687)\n",
        "Failed to add user-item pair (86247, 49777)\n",
        "Failed to add user-item pair (86447, 4822)\n",
        "Failed to add user-item pair (88629, 49974)\n",
        "Failed to add user-item pair (89287, 50317)\n",
        "Failed to add user-item pair (89449, 50361)\n",
        "Failed to add user-item pair (89536, 50387)\n",
        "Failed to add user-item pair (89877, 50594)\n",
        "Failed to add user-item pair (90739, 51034)\n",
        "Failed to add user-item pair (90923, 51103)\n",
        "Failed to add user-item pair (90953, 51119)\n",
        "Failed to add user-item pair (91273, 51343)\n",
        "Failed to add user-item pair (95558, 98)"
       ]
      },
      {
       "output_type": "stream",
       "stream": "stdout",
       "text": [
        "\n",
        "Failed to add user-item pair (97953, 4765)\n",
        "Failed to add user-item pair (98518, 51774)\n",
        "Failed to add user-item pair (98545, 51781)\n",
        "Failed to add user-item pair (99721, 52068)\n",
        "Failed to add user-item pair (99721, 52238)\n",
        "Failed to add user-item pair (99721, 52164)\n",
        "Failed to add user-item pair (99721, 52121)\n",
        "Failed to add user-item pair (101446, 52722)\n",
        "Failed to add user-item pair (101494, 52760)\n",
        "Failed to add user-item pair (101596, 52850)\n",
        "Failed to add user-item pair (102150, 52969)\n",
        "Failed to add user-item pair (102266, 53041)\n",
        "Failed to add user-item pair (102270, 53057)\n",
        "Failed to add user-item pair (103012, 53312)\n",
        "Failed to add user-item pair (103029, 53322)\n",
        "Failed to add user-item pair (103162, 53393)\n",
        "Failed to add user-item pair (104601, 50527)\n",
        "Failed to add user-item pair (104974, 53691)\n",
        "Failed to add user-item pair (105194, 53713)\n",
        "Failed to add user-item pair (105653, 618)\n",
        "Failed to add user-item pair (106605, 53959)\n",
        "Failed to add user-item pair (107199, 54346)\n",
        "Failed to add user-item pair (107663, 54509)\n",
        "Failed to add user-item pair (107826, 54519)\n",
        "Failed to add user-item pair (109125, 54876)\n",
        "Failed to add user-item pair (109627, 54958)\n",
        "Failed to add user-item pair (109627, 54957)\n",
        "Failed to add user-item pair (109859, 55070)\n",
        "Failed to add user-item pair (109877, 55137)\n",
        "Failed to add user-item pair (109877, 55528)\n",
        "Failed to add user-item pair (109877, 55300)\n",
        "Failed to add user-item pair (110841, 1025)\n",
        "Failed to add user-item pair (111466, 55948)\n",
        "Failed to add user-item pair (112854, 56032)\n",
        "Failed to add user-item pair (113767, 56127)\n",
        "Failed to add user-item pair (114371, 56161)\n",
        "Failed to add user-item pair (114878, 49209)\n",
        "Failed to add user-item pair (115080, 56239)\n",
        "Failed to add user-item pair (115567, 56279)\n",
        "Failed to add user-item pair (116047, 56364)\n",
        "Failed to add user-item pair (117184, 56627)\n",
        "Failed to add user-item pair (117184, 56638)\n",
        "Failed to add user-item pair (118791, 56829)\n",
        "Failed to add user-item pair (118846, 56855)\n",
        "Failed to add user-item pair (119142, 14320)\n",
        "Failed to add user-item pair (119433, 57027)\n",
        "Failed to add user-item pair (119755, 57128)\n",
        "Failed to add user-item pair (120189, 57160)\n",
        "Failed to add user-item pair (120197, 204)\n",
        "Failed to add user-item pair (120213, 57161)\n",
        "Failed to add user-item pair (120290, 57180)\n",
        "Failed to add user-item pair (120825, 57305)\n",
        "Failed to add user-item pair (121032, 57342)\n",
        "Failed to add user-item pair (122160, 57378)\n",
        "Failed to add user-item pair (122295, 1210)\n",
        "Failed to add user-item pair (123589, 57493)\n",
        "Failed to add user-item pair (123914, 10)\n",
        "Failed to add user-item pair (124062, 57536)\n",
        "Failed to add user-item pair (124275, 2879)\n",
        "Failed to add user-item pair (124343, 39505)\n",
        "Failed to add user-item pair (124718, 51802)\n",
        "Failed to add user-item pair (126985, 487)\n",
        "Failed to add user-item pair (126993, 57899)\n",
        "Failed to add user-item pair (127730, 58051)\n",
        "Failed to add user-item pair (127969, 58178)\n",
        "Failed to add user-item pair (128708, 58403)\n",
        "Failed to add user-item pair (128942, 58428)\n"
       ]
      }
     ],
     "prompt_number": 13
    },
    {
     "cell_type": "code",
     "collapsed": false,
     "input": [
      "vad_data = scipy.sparse.csr_matrix((data_vad, (rows_vad, cols_vad)), \n",
      "                                   dtype='int32', shape=(n_users, n_items))"
     ],
     "language": "python",
     "metadata": {},
     "outputs": [],
     "prompt_number": 14
    },
    {
     "cell_type": "code",
     "collapsed": false,
     "input": [
      "network_data_raw = np.loadtxt(os.path.join(DATA_ROOT, 'network.tsv'), dtype='int32')"
     ],
     "language": "python",
     "metadata": {},
     "outputs": [],
     "prompt_number": 15
    },
    {
     "cell_type": "code",
     "collapsed": false,
     "input": [
      "rows_nw = []\n",
      "cols_nw = []\n",
      "\n",
      "for i, j in zip(network_data_raw[:, 0], network_data_raw[:, 1]):\n",
      "    if i in uid_to_idx and j in uid_to_idx:\n",
      "        rows_nw.append(uid_to_idx[i])\n",
      "        cols_nw.append(uid_to_idx[j])\n",
      "    else:\n",
      "        print(\"Failed to add edge (%d, %d)\" % (i, j))"
     ],
     "language": "python",
     "metadata": {},
     "outputs": [
      {
       "output_type": "stream",
       "stream": "stdout",
       "text": [
        "Failed to add edge (39947, 89412)\n",
        "Failed to add edge (24908, 71067)\n",
        "Failed to add edge (38567, 119051)\n",
        "Failed to add edge (34481, 37924)\n",
        "Failed to add edge (24611, 29431)\n",
        "Failed to add edge (23063, 99913)\n",
        "Failed to add edge (34481, 80105)\n",
        "Failed to add edge (55830, 96523)\n",
        "Failed to add edge (51248, 124673)\n",
        "Failed to add edge (70471, 78803)\n",
        "Failed to add edge (105621, 107432)\n",
        "Failed to add edge (3632, 119114)\n",
        "Failed to add edge (60447, 71067)\n",
        "Failed to add edge (8050, 71067)\n",
        "Failed to add edge (16288, 108785)\n",
        "Failed to add edge (15776, 34661)\n",
        "Failed to add edge (81109, 112318)\n",
        "Failed to add edge (39947, 75083)\n",
        "Failed to add edge (39101, 96523)\n",
        "Failed to add edge (79616, 81352)\n",
        "Failed to add edge (19577, 34481)\n",
        "Failed to add edge (39096, 71067)\n",
        "Failed to add edge (40944, 98314)\n",
        "Failed to add edge (89786, 116571)\n",
        "Failed to add edge (38585, 96523)\n",
        "Failed to add edge (97911, 99501)\n",
        "Failed to add edge (16974, 106461)\n",
        "Failed to add edge (119058, 119378)\n",
        "Failed to add edge (18854, 103802)"
       ]
      },
      {
       "output_type": "stream",
       "stream": "stdout",
       "text": [
        "\n",
        "Failed to add edge (41657, 45467)\n",
        "Failed to add edge (8575, 100212)\n",
        "Failed to add edge (47961, 71067)\n",
        "Failed to add edge (21976, 48196)\n",
        "Failed to add edge (12526, 73599)\n",
        "Failed to add edge (15542, 107701)\n",
        "Failed to add edge (18854, 67336)\n",
        "Failed to add edge (54752, 59094)\n",
        "Failed to add edge (56792, 81109)\n",
        "Failed to add edge (17644, 32799)\n",
        "Failed to add edge (71067, 73307)\n",
        "Failed to add edge (1346, 98314)\n",
        "Failed to add edge (10023, 95275)\n",
        "Failed to add edge (17079, 70471)\n",
        "Failed to add edge (57752, 115920)\n",
        "Failed to add edge (10234, 16288)\n",
        "Failed to add edge (29962, 71414)\n",
        "Failed to add edge (33839, 119484)\n",
        "Failed to add edge (81109, 123048)\n",
        "Failed to add edge (9198, 39947)\n",
        "Failed to add edge (77116, 124673)\n",
        "Failed to add edge (85547, 107849)\n",
        "Failed to add edge (41657, 58024)\n",
        "Failed to add edge (36597, 40374)\n",
        "Failed to add edge (16974, 30666)\n",
        "Failed to add edge (39947, 54110)\n",
        "Failed to add edge (54095, 120197)\n",
        "Failed to add edge (22484, 39947)\n",
        "Failed to add edge (34481, 38131)\n",
        "Failed to add edge (37331, 50882)\n",
        "Failed to add edge (18854, 80179)\n",
        "Failed to add edge (27201, 71067)\n",
        "Failed to add edge (63552, 108916)\n",
        "Failed to add edge (8250, 125958)\n",
        "Failed to add edge (80069, 115920)\n",
        "Failed to add edge (47661, 98314)\n",
        "Failed to add edge (102832, 119484)"
       ]
      },
      {
       "output_type": "stream",
       "stream": "stdout",
       "text": [
        "\n",
        "Failed to add edge (28681, 108422)\n",
        "Failed to add edge (57167, 119449)\n",
        "Failed to add edge (112966, 119114)\n",
        "Failed to add edge (38199, 119058)\n",
        "Failed to add edge (49415, 98314)\n",
        "Failed to add edge (33652, 92652)\n",
        "Failed to add edge (68254, 119484)\n",
        "Failed to add edge (74790, 87874)\n",
        "Failed to add edge (39947, 113202)\n",
        "Failed to add edge (77677, 98314)\n",
        "Failed to add edge (6314, 29962)\n",
        "Failed to add edge (16288, 79427)\n",
        "Failed to add edge (96523, 99110)\n",
        "Failed to add edge (79777, 119114)\n",
        "Failed to add edge (21118, 90140)\n",
        "Failed to add edge (98178, 110861)\n",
        "Failed to add edge (39947, 47220)\n",
        "Failed to add edge (70471, 86395)\n",
        "Failed to add edge (39947, 43498)\n",
        "Failed to add edge (11409, 85547)\n",
        "Failed to add edge (42062, 90687)\n",
        "Failed to add edge (33402, 40066)\n",
        "Failed to add edge (26449, 62472)"
       ]
      },
      {
       "output_type": "stream",
       "stream": "stdout",
       "text": [
        "\n",
        "Failed to add edge (19182, 85547)\n",
        "Failed to add edge (43190, 54987)\n",
        "Failed to add edge (89463, 119058)\n",
        "Failed to add edge (16288, 53037)\n",
        "Failed to add edge (17974, 94091)\n",
        "Failed to add edge (24206, 27750)\n",
        "Failed to add edge (31052, 98314)\n",
        "Failed to add edge (34481, 103703)\n",
        "Failed to add edge (16974, 34508)\n",
        "Failed to add edge (34481, 91120)\n",
        "Failed to add edge (15259, 27602)\n",
        "Failed to add edge (84263, 5907)\n",
        "Failed to add edge (84601, 107432)\n",
        "Failed to add edge (76319, 105585)\n",
        "Failed to add edge (38912, 42662)\n",
        "Failed to add edge (30891, 68161)\n",
        "Failed to add edge (52504, 119114)\n",
        "Failed to add edge (39540, 69542)\n",
        "Failed to add edge (18854, 114390)\n",
        "Failed to add edge (32290, 54752)\n",
        "Failed to add edge (55940, 107764)\n",
        "Failed to add edge (86309, 102370)\n",
        "Failed to add edge (27440, 71067)\n",
        "Failed to add edge (16288, 88210)\n",
        "Failed to add edge (8426, 16288)"
       ]
      },
      {
       "output_type": "stream",
       "stream": "stdout",
       "text": [
        "\n",
        "Failed to add edge (31167, 108132)\n",
        "Failed to add edge (45832, 98178)\n",
        "Failed to add edge (40264, 86161)\n",
        "Failed to add edge (33434, 99594)\n",
        "Failed to add edge (16974, 46980)\n",
        "Failed to add edge (45968, 70471)\n",
        "Failed to add edge (46867, 70471)\n",
        "Failed to add edge (14831, 34481)\n",
        "Failed to add edge (29962, 92862)\n",
        "Failed to add edge (70471, 115818)\n",
        "Failed to add edge (10197, 73916)\n",
        "Failed to add edge (68161, 81205)\n",
        "Failed to add edge (34481, 91867)\n",
        "Failed to add edge (45467, 97269)\n",
        "Failed to add edge (57089, 97269)\n",
        "Failed to add edge (49789, 115008)\n",
        "Failed to add edge (25725, 39947)\n",
        "Failed to add edge (32123, 118469)\n",
        "Failed to add edge (62845, 68459)\n",
        "Failed to add edge (59525, 70471)\n",
        "Failed to add edge (49313, 115920)\n",
        "Failed to add edge (47414, 52790)"
       ]
      },
      {
       "output_type": "stream",
       "stream": "stdout",
       "text": [
        "\n",
        "Failed to add edge (24611, 52809)\n",
        "Failed to add edge (76806, 85547)\n",
        "Failed to add edge (39947, 107867)\n",
        "Failed to add edge (47845, 119449)\n",
        "Failed to add edge (3706, 85547)\n",
        "Failed to add edge (105285, 119114)\n",
        "Failed to add edge (54850, 86302)\n",
        "Failed to add edge (40287, 120197)\n",
        "Failed to add edge (64335, 70471)\n",
        "Failed to add edge (79427, 96523)\n",
        "Failed to add edge (71863, 97269)\n",
        "Failed to add edge (59037, 92893)\n",
        "Failed to add edge (40965, 73599)\n",
        "Failed to add edge (28800, 80870)\n",
        "Failed to add edge (51116, 115920)\n",
        "Failed to add edge (49193, 95275)\n",
        "Failed to add edge (35756, 52563)\n",
        "Failed to add edge (55906, 94091)\n",
        "Failed to add edge (97269, 126007)\n",
        "Failed to add edge (34481, 97095)\n",
        "Failed to add edge (109843, 119114)\n",
        "Failed to add edge (57269, 86309)\n",
        "Failed to add edge (58049, 95735)\n",
        "Failed to add edge (72710, 107432)\n",
        "Failed to add edge (69607, 85547)\n",
        "Failed to add edge (30403, 73599)\n",
        "Failed to add edge (10133, 115920)\n",
        "Failed to add edge (9172, 28803)\n",
        "Failed to add edge (97231, 109719)\n",
        "Failed to add edge (60869, 99352)\n",
        "Failed to add edge (12700, 28803)"
       ]
      },
      {
       "output_type": "stream",
       "stream": "stdout",
       "text": [
        "\n",
        "Failed to add edge (56699, 89786)\n",
        "Failed to add edge (67650, 76630)\n",
        "Failed to add edge (41657, 107339)\n",
        "Failed to add edge (77179, 119449)\n",
        "Failed to add edge (22010, 71067)\n",
        "Failed to add edge (4642, 85547)\n",
        "Failed to add edge (43498, 85547)\n",
        "Failed to add edge (38461, 96523)\n",
        "Failed to add edge (70094, 70471)\n",
        "Failed to add edge (10400, 54752)\n",
        "Failed to add edge (26163, 70471)\n",
        "Failed to add edge (29132, 29501)\n",
        "Failed to add edge (34481, 70247)\n",
        "Failed to add edge (58850, 68161)\n",
        "Failed to add edge (23336, 34481)\n",
        "Failed to add edge (33861, 96523)\n",
        "Failed to add edge (51259, 119386)\n",
        "Failed to add edge (96943, 104395)\n",
        "Failed to add edge (39602, 107432)\n",
        "Failed to add edge (43454, 72864)\n",
        "Failed to add edge (40226, 46805)\n",
        "Failed to add edge (16288, 33099)\n",
        "Failed to add edge (80599, 81109)\n",
        "Failed to add edge (47851, 52382)\n",
        "Failed to add edge (6389, 66756)\n",
        "Failed to add edge (46149, 115008)\n",
        "Failed to add edge (47538, 98314)\n",
        "Failed to add edge (1380, 70471)\n",
        "Failed to add edge (66327, 92893)"
       ]
      },
      {
       "output_type": "stream",
       "stream": "stdout",
       "text": [
        "\n",
        "Failed to add edge (22952, 65517)\n",
        "Failed to add edge (32986, 41733)\n",
        "Failed to add edge (29962, 31265)\n",
        "Failed to add edge (76615, 119058)\n",
        "Failed to add edge (28803, 97782)\n",
        "Failed to add edge (79183, 85547)\n",
        "Failed to add edge (19741, 66756)\n",
        "Failed to add edge (34481, 55892)\n",
        "Failed to add edge (9283, 85547)\n",
        "Failed to add edge (28803, 79095)\n",
        "Failed to add edge (35551, 115920)\n",
        "Failed to add edge (22557, 39947)\n",
        "Failed to add edge (107701, 108702)\n",
        "Failed to add edge (60882, 115008)\n",
        "Failed to add edge (115008, 117014)\n",
        "Failed to add edge (107815, 119774)\n",
        "Failed to add edge (37256, 80747)\n",
        "Failed to add edge (28803, 52253)\n",
        "Failed to add edge (39947, 57620)\n",
        "Failed to add edge (25720, 68161)\n",
        "Failed to add edge (28029, 87874)\n",
        "Failed to add edge (34481, 78885)\n",
        "Failed to add edge (39947, 67006)\n",
        "Failed to add edge (61519, 71067)\n",
        "Failed to add edge (16912, 107764)\n",
        "Failed to add edge (34661, 41815)\n",
        "Failed to add edge (34814, 71067)\n",
        "Failed to add edge (107907, 124673)\n",
        "Failed to add edge (8453, 16288)\n",
        "Failed to add edge (78438, 96523)"
       ]
      },
      {
       "output_type": "stream",
       "stream": "stdout",
       "text": [
        "\n",
        "Failed to add edge (11778, 68161)\n",
        "Failed to add edge (21443, 92817)\n",
        "Failed to add edge (18854, 77203)\n",
        "Failed to add edge (12788, 51116)\n",
        "Failed to add edge (81572, 120197)\n",
        "Failed to add edge (32989, 41657)\n",
        "Failed to add edge (43360, 71067)\n",
        "Failed to add edge (23063, 104930)\n",
        "Failed to add edge (71826, 81910)\n",
        "Failed to add edge (22239, 71067)\n",
        "Failed to add edge (24443, 68161)\n",
        "Failed to add edge (24611, 81042)\n",
        "Failed to add edge (119175, 125438)\n",
        "Failed to add edge (71067, 116629)\n",
        "Failed to add edge (84960, 119449)\n",
        "Failed to add edge (5514, 39947)\n",
        "Failed to add edge (42816, 115920)\n",
        "Failed to add edge (41407, 125958)\n",
        "Failed to add edge (18600, 70471)\n",
        "Failed to add edge (21726, 24611)\n",
        "Failed to add edge (18854, 30891)\n",
        "Failed to add edge (32406, 49349)\n",
        "Failed to add edge (54452, 99467)\n",
        "Failed to add edge (107432, 119784)\n",
        "Failed to add edge (86411, 97269)\n",
        "Failed to add edge (31883, 115392)\n",
        "Failed to add edge (32123, 45832)\n",
        "Failed to add edge (35519, 56385)\n",
        "Failed to add edge (29962, 71626)\n",
        "Failed to add edge (39947, 86847)"
       ]
      },
      {
       "output_type": "stream",
       "stream": "stdout",
       "text": [
        "\n",
        "Failed to add edge (81104, 119114)\n",
        "Failed to add edge (3413, 85547)\n",
        "Failed to add edge (24717, 71692)\n",
        "Failed to add edge (86768, 92070)\n",
        "Failed to add edge (25572, 55655)\n",
        "Failed to add edge (15259, 89786)\n",
        "Failed to add edge (71067, 88977)\n",
        "Failed to add edge (107764, 113365)\n",
        "Failed to add edge (70471, 110189)\n",
        "Failed to add edge (39947, 80961)\n",
        "Failed to add edge (39947, 91181)\n",
        "Failed to add edge (7806, 65237)\n",
        "Failed to add edge (71067, 104778)\n",
        "Failed to add edge (32348, 73508)\n",
        "Failed to add edge (41927, 59977)\n",
        "Failed to add edge (78187, 116737)\n",
        "Failed to add edge (40066, 106505)\n",
        "Failed to add edge (39947, 86411)\n",
        "Failed to add edge (59947, 107339)\n",
        "Failed to add edge (22154, 86768)\n",
        "Failed to add edge (12788, 27928)\n",
        "Failed to add edge (52790, 68254)\n",
        "Failed to add edge (31591, 88497)\n",
        "Failed to add edge (27109, 32090)\n",
        "Failed to add edge (85547, 87360)\n",
        "Failed to add edge (11354, 71067)\n",
        "Failed to add edge (107432, 107554)\n",
        "Failed to add edge (39947, 53368)\n",
        "Failed to add edge (39130, 96523)\n",
        "Failed to add edge (37065, 111443)\n",
        "Failed to add edge (23063, 110807)\n",
        "Failed to add edge (9009, 16974)\n",
        "Failed to add edge (34990, 85547)\n",
        "Failed to add edge (68471, 98314)\n",
        "Failed to add edge (39947, 90093)\n",
        "Failed to add edge (45040, 124673)"
       ]
      },
      {
       "output_type": "stream",
       "stream": "stdout",
       "text": [
        "\n",
        "Failed to add edge (95275, 107891)\n",
        "Failed to add edge (71021, 97798)\n",
        "Failed to add edge (16023, 70471)\n",
        "Failed to add edge (42504, 56618)\n",
        "Failed to add edge (13211, 21461)\n",
        "Failed to add edge (49826, 97269)\n",
        "Failed to add edge (75836, 107701)\n",
        "Failed to add edge (81583, 86309)\n",
        "Failed to add edge (69359, 119449)\n",
        "Failed to add edge (28803, 38806)\n",
        "Failed to add edge (96078, 119114)\n",
        "Failed to add edge (34487, 45338)\n",
        "Failed to add edge (85116, 86012)\n",
        "Failed to add edge (31918, 34481)\n",
        "Failed to add edge (39947, 57433)\n",
        "Failed to add edge (80266, 86411)\n",
        "Failed to add edge (119058, 119101)\n",
        "Failed to add edge (108960, 119058)\n",
        "Failed to add edge (61668, 71067)\n",
        "Failed to add edge (41976, 81910)\n",
        "Failed to add edge (45963, 70471)\n",
        "Failed to add edge (9536, 39947)\n",
        "Failed to add edge (32722, 85547)\n",
        "Failed to add edge (24859, 39947)\n",
        "Failed to add edge (9085, 85547)\n",
        "Failed to add edge (72864, 113011)\n",
        "Failed to add edge (25961, 34481)\n",
        "Failed to add edge (50798, 115008)\n",
        "Failed to add edge (14722, 66756)\n",
        "Failed to add edge (81109, 92445)\n",
        "Failed to add edge (16974, 74106)\n",
        "Failed to add edge (52956, 73599)\n",
        "Failed to add edge (39947, 51504)"
       ]
      },
      {
       "output_type": "stream",
       "stream": "stdout",
       "text": [
        "\n",
        "Failed to add edge (66874, 86768)\n",
        "Failed to add edge (66842, 85547)\n",
        "Failed to add edge (47668, 122622)\n",
        "Failed to add edge (22734, 32799)\n",
        "Failed to add edge (34481, 125608)\n",
        "Failed to add edge (28681, 29182)\n",
        "Failed to add edge (96523, 115717)\n",
        "Failed to add edge (70471, 115784)\n",
        "Failed to add edge (35627, 123738)\n",
        "Failed to add edge (70471, 119889)\n",
        "Failed to add edge (72864, 104813)\n",
        "Failed to add edge (29962, 9939)\n",
        "Failed to add edge (40066, 48397)\n",
        "Failed to add edge (60259, 115008)\n",
        "Failed to add edge (23063, 39498)\n",
        "Failed to add edge (29974, 34487)\n",
        "Failed to add edge (34661, 86584)\n",
        "Failed to add edge (66844, 85547)\n",
        "Failed to add edge (62124, 71692)\n",
        "Failed to add edge (37062, 86768)\n",
        "Failed to add edge (33503, 61625)\n",
        "Failed to add edge (15006, 54548)\n",
        "Failed to add edge (1088, 71692)\n",
        "Failed to add edge (47615, 97231)\n",
        "Failed to add edge (38392, 86309)\n",
        "Failed to add edge (85547, 96008)\n",
        "Failed to add edge (81109, 96628)\n",
        "Failed to add edge (28803, 29033)\n",
        "Failed to add edge (23455, 94091)"
       ]
      },
      {
       "output_type": "stream",
       "stream": "stdout",
       "text": [
        "\n",
        "Failed to add edge (81109, 102697)\n",
        "Failed to add edge (2832, 62472)\n",
        "Failed to add edge (34481, 36001)\n",
        "Failed to add edge (70471, 71075)\n",
        "Failed to add edge (60111, 89786)\n",
        "Failed to add edge (24164, 81109)\n",
        "Failed to add edge (13922, 32799)\n",
        "Failed to add edge (32406, 61002)\n",
        "Failed to add edge (81646, 115920)\n",
        "Failed to add edge (50623, 115008)\n",
        "Failed to add edge (67657, 86309)\n",
        "Failed to add edge (6096, 66756)\n",
        "Failed to add edge (71402, 115920)\n",
        "Failed to add edge (69515, 72403)\n",
        "Failed to add edge (12788, 42435)\n",
        "Failed to add edge (15569, 51771)\n",
        "Failed to add edge (28803, 75147)\n",
        "Failed to add edge (9296, 28803)\n",
        "Failed to add edge (39851, 96523)\n",
        "Failed to add edge (84023, 112930)\n",
        "Failed to add edge (51408, 85547)\n",
        "Failed to add edge (41524, 75450)\n",
        "Failed to add edge (48130, 69735)\n",
        "Failed to add edge (63552, 79990)\n",
        "Failed to add edge (28681, 56854)\n",
        "Failed to add edge (38912, 90147)\n",
        "Failed to add edge (34148, 68161)\n",
        "Failed to add edge (28803, 39489)\n",
        "Failed to add edge (17800, 119058)\n",
        "Failed to add edge (22141, 32799)\n",
        "Failed to add edge (107032, 115433)\n",
        "Failed to add edge (18293, 86309)"
       ]
      },
      {
       "output_type": "stream",
       "stream": "stdout",
       "text": [
        "\n",
        "Failed to add edge (30191, 97269)\n",
        "Failed to add edge (39047, 124673)\n",
        "Failed to add edge (36970, 71067)\n",
        "Failed to add edge (46501, 96523)\n",
        "Failed to add edge (17202, 68161)\n",
        "Failed to add edge (61719, 122622)\n",
        "Failed to add edge (37331, 88616)\n",
        "Failed to add edge (85547, 91581)\n",
        "Failed to add edge (100037, 120197)\n",
        "Failed to add edge (114987, 119058)\n",
        "Failed to add edge (18288, 68161)\n",
        "Failed to add edge (39824, 59916)\n",
        "Failed to add edge (39947, 101708)\n",
        "Failed to add edge (43190, 47389)\n",
        "Failed to add edge (17442, 18854)\n",
        "Failed to add edge (16693, 18854)\n",
        "Failed to add edge (107432, 119424)\n",
        "Failed to add edge (17408, 58364)\n",
        "Failed to add edge (54752, 103657)\n",
        "Failed to add edge (71067, 117254)\n",
        "Failed to add edge (76399, 98178)\n",
        "Failed to add edge (29353, 81984)\n",
        "Failed to add edge (28231, 100948)\n",
        "Failed to add edge (27602, 38432)\n",
        "Failed to add edge (24859, 119449)\n",
        "Failed to add edge (28803, 43026)\n",
        "Failed to add edge (39947, 129277)\n",
        "Failed to add edge (5649, 95275)\n",
        "Failed to add edge (74904, 87778)\n",
        "Failed to add edge (48250, 119114)\n",
        "Failed to add edge (59627, 71067)\n",
        "Failed to add edge (32406, 35316)\n",
        "Failed to add edge (85547, 86261)\n",
        "Failed to add edge (78404, 107701)\n",
        "Failed to add edge (39947, 47498)\n",
        "Failed to add edge (2526, 66756)\n",
        "Failed to add edge (39947, 89042)\n",
        "Failed to add edge (18704, 68161)"
       ]
      },
      {
       "output_type": "stream",
       "stream": "stdout",
       "text": [
        "\n",
        "Failed to add edge (34481, 60851)\n",
        "Failed to add edge (71151, 71692)\n",
        "Failed to add edge (60240, 119484)\n",
        "Failed to add edge (119051, 126031)\n",
        "Failed to add edge (79298, 119058)\n",
        "Failed to add edge (47277, 85547)\n",
        "Failed to add edge (58412, 92817)\n",
        "Failed to add edge (41876, 96523)\n",
        "Failed to add edge (6866, 106413)\n",
        "Failed to add edge (8812, 123914)\n",
        "Failed to add edge (101235, 119114)\n",
        "Failed to add edge (54752, 55599)\n",
        "Failed to add edge (21827, 76630)\n",
        "Failed to add edge (122618, 119114)\n",
        "Failed to add edge (48418, 71067)\n",
        "Failed to add edge (74656, 119741)\n",
        "Failed to add edge (29333, 70471)\n",
        "Failed to add edge (23742, 85547)\n",
        "Failed to add edge (22556, 119058)\n",
        "Failed to add edge (38750, 39947)\n",
        "Failed to add edge (21680, 70471)\n",
        "Failed to add edge (50450, 107432)\n",
        "Failed to add edge (52790, 106224)\n",
        "Failed to add edge (47837, 71067)\n",
        "Failed to add edge (87873, 87874)\n",
        "Failed to add edge (81109, 88706)\n",
        "Failed to add edge (41657, 97595)\n",
        "Failed to add edge (16288, 20633)\n",
        "Failed to add edge (38192, 39947)"
       ]
      },
      {
       "output_type": "stream",
       "stream": "stdout",
       "text": [
        "\n",
        "Failed to add edge (20741, 39947)\n",
        "Failed to add edge (70471, 81482)\n",
        "Failed to add edge (30787, 115433)\n",
        "Failed to add edge (71067, 108029)\n",
        "Failed to add edge (52790, 119464)\n",
        "Failed to add edge (37283, 74580)\n",
        "Failed to add edge (39747, 73599)\n",
        "Failed to add edge (57422, 76630)\n",
        "Failed to add edge (107764, 128449)\n",
        "Failed to add edge (39947, 54879)\n"
       ]
      }
     ],
     "prompt_number": 16
    },
    {
     "cell_type": "code",
     "collapsed": false,
     "input": [
      "network_data = scipy.sparse.csr_matrix((np.ones_like(rows_nw), (rows_nw, cols_nw)), \n",
      "                                     dtype='int32', shape=(n_users, n_users))"
     ],
     "language": "python",
     "metadata": {},
     "outputs": [],
     "prompt_number": 17
    },
    {
     "cell_type": "code",
     "collapsed": false,
     "input": [
      "# the network is supposed to be undirected\n",
      "network_data = network_data + network_data.T.tocsr()"
     ],
     "language": "python",
     "metadata": {},
     "outputs": [],
     "prompt_number": 18
    },
    {
     "cell_type": "code",
     "collapsed": false,
     "input": [
      "network_data.data = np.ones_like(network_data.data)"
     ],
     "language": "python",
     "metadata": {},
     "outputs": [],
     "prompt_number": 19
    },
    {
     "cell_type": "code",
     "collapsed": false,
     "input": [
      "friends_count = np.asarray(network_data.sum(axis=0)).ravel()"
     ],
     "language": "python",
     "metadata": {},
     "outputs": [],
     "prompt_number": 20
    },
    {
     "cell_type": "code",
     "collapsed": false,
     "input": [
      "plt.hist(friends_count, bins=50)\n",
      "pass"
     ],
     "language": "python",
     "metadata": {},
     "outputs": [
      {
       "metadata": {},
       "output_type": "display_data",
       "png": "[encoded data removed]",
       "text": [
        "<matplotlib.figure.Figure at 0x7f96146dfb10>"
       ]
      }
     ],
     "prompt_number": 21
    },
    {
     "cell_type": "code",
     "collapsed": false,
     "input": [
      "# binarize the data (for now)\n",
      "train_data_bn = train_data.copy()\n",
      "\n",
      "train_data_bn.data[train_data_bn.data <= 3] = 0\n",
      "train_data_bn.data[train_data_bn.data > 3] = 1\n",
      "train_data_bn.eliminate_zeros()"
     ],
     "language": "python",
     "metadata": {},
     "outputs": [],
     "prompt_number": 22
    },
    {
     "cell_type": "code",
     "collapsed": false,
     "input": [
      "vad_data_bn = vad_data.copy()\n",
      "\n",
      "vad_data_bn.data[vad_data_bn.data <= 3] = 0\n",
      "vad_data_bn.data[vad_data_bn.data > 3] = 1\n",
      "vad_data_bn.eliminate_zeros()"
     ],
     "language": "python",
     "metadata": {},
     "outputs": [],
     "prompt_number": 23
    },
    {
     "cell_type": "code",
     "collapsed": false,
     "input": [
      "reload(social_poexpomf)\n",
      "\n",
      "n_components = 100\n",
      "max_iter = 20\n",
      "n_jobs = 10\n",
      "lam = 1e-5\n",
      "# here we use the best performing init_mu from per-item \\mu_i experiment\n",
      "init_mu = 0.01\n",
      "\n",
      "save_dir=\"PoissonSocialExposure_ExpoMF_params_K%d_lam%1.0E_initmu%1.0E\" % (n_components, lam, init_mu)\n",
      "\n",
      "\n",
      "coder = social_poexpomf.PoissonSocialExpoMF(n_components=n_components, max_iter=max_iter, batch_size=500, init_std=0.01,\n",
      "                                            n_jobs=n_jobs, random_state=98765, save_params=True, save_dir=save_dir, \n",
      "                                            early_stopping=True, verbose=True, \n",
      "                                            lam_y=1., lam_theta=lam, lam_beta=lam, init_mu=init_mu)"
     ],
     "language": "python",
     "metadata": {},
     "outputs": []
    },
    {
     "cell_type": "code",
     "collapsed": false,
     "input": [
      "coder.fit(train_data_bn, network_data, vad_data=vad_data_bn, batch_users=5000, k=100)"
     ],
     "language": "python",
     "metadata": {},
     "outputs": [
      {
       "output_type": "stream",
       "stream": "stdout",
       "text": [
        "ITERATION #0\n",
        "\tUpdating user CF factors..."
       ]
      },
      {
       "output_type": "stream",
       "stream": "stdout",
       "text": [
        "\r",
        "\tUpdating user CF factors: time=1726.99\n",
        "\tUpdating item CF factors..."
       ]
      },
      {
       "output_type": "stream",
       "stream": "stdout",
       "text": [
        "\r",
        "\tUpdating item CF factors: time=2776.05\n",
        "\tUpdating network influence..."
       ]
      },
      {
       "output_type": "stream",
       "stream": "stdout",
       "text": [
        "\r",
        "\tUpdating network influence: time=2650.25\n",
        "\tUpdating user exposure bias..."
       ]
      },
      {
       "output_type": "stream",
       "stream": "stdout",
       "text": [
        "\r",
        "\tUpdating user exposure bias: time=327.03\n",
        "\tUpdating item exposure bias..."
       ]
      },
      {
       "output_type": "stream",
       "stream": "stdout",
       "text": [
        "\r",
        "\tUpdating item exposure bias: time=285.78\n",
        "\tValidation NDCG@k: 0.0730"
       ]
      },
      {
       "output_type": "stream",
       "stream": "stdout",
       "text": [
        "\n"
       ]
      },
      {
       "output_type": "stream",
       "stream": "stdout",
       "text": [
        "ITERATION #1\n",
        "\tUpdating user CF factors..."
       ]
      },
      {
       "output_type": "stream",
       "stream": "stdout",
       "text": [
        "\r",
        "\tUpdating user CF factors: time=1406.95\n",
        "\tUpdating item CF factors..."
       ]
      },
      {
       "output_type": "stream",
       "stream": "stdout",
       "text": [
        "\r",
        "\tUpdating item CF factors: time=1436.68\n",
        "\tUpdating network influence..."
       ]
      },
      {
       "output_type": "stream",
       "stream": "stdout",
       "text": [
        "\r",
        "\tUpdating network influence: time=368.23\n",
        "\tUpdating user exposure bias..."
       ]
      },
      {
       "output_type": "stream",
       "stream": "stdout",
       "text": [
        "\r",
        "\tUpdating user exposure bias: time=138.21\n",
        "\tUpdating item exposure bias..."
       ]
      },
      {
       "output_type": "stream",
       "stream": "stdout",
       "text": [
        "\r",
        "\tUpdating item exposure bias: time=116.25\n",
        "\tValidation NDCG@k: 0.1147"
       ]
      },
      {
       "output_type": "stream",
       "stream": "stdout",
       "text": [
        "\n"
       ]
      },
      {
       "output_type": "stream",
       "stream": "stdout",
       "text": [
        "ITERATION #2\n",
        "\tUpdating user CF factors..."
       ]
      },
      {
       "output_type": "stream",
       "stream": "stdout",
       "text": [
        "\r",
        "\tUpdating user CF factors: time=1405.15\n",
        "\tUpdating item CF factors..."
       ]
      },
      {
       "output_type": "stream",
       "stream": "stdout",
       "text": [
        "\r",
        "\tUpdating item CF factors: time=1433.53\n",
        "\tUpdating network influence..."
       ]
      },
      {
       "output_type": "stream",
       "stream": "stdout",
       "text": [
        "\r",
        "\tUpdating network influence: time=365.39\n",
        "\tUpdating user exposure bias..."
       ]
      },
      {
       "output_type": "stream",
       "stream": "stdout",
       "text": [
        "\r",
        "\tUpdating user exposure bias: time=143.47\n",
        "\tUpdating item exposure bias..."
       ]
      },
      {
       "output_type": "stream",
       "stream": "stdout",
       "text": [
        "\r",
        "\tUpdating item exposure bias: time=116.60\n",
        "\tValidation NDCG@k: 0.1238"
       ]
      },
      {
       "output_type": "stream",
       "stream": "stdout",
       "text": [
        "\n"
       ]
      },
      {
       "output_type": "stream",
       "stream": "stdout",
       "text": [
        "ITERATION #3\n",
        "\tUpdating user CF factors..."
       ]
      },
      {
       "output_type": "stream",
       "stream": "stdout",
       "text": [
        "\r",
        "\tUpdating user CF factors: time=1405.14\n",
        "\tUpdating item CF factors..."
       ]
      },
      {
       "output_type": "stream",
       "stream": "stdout",
       "text": [
        "\r",
        "\tUpdating item CF factors: time=1434.64\n",
        "\tUpdating network influence..."
       ]
      },
      {
       "output_type": "stream",
       "stream": "stdout",
       "text": [
        "\r",
        "\tUpdating network influence: time=366.49\n",
        "\tUpdating user exposure bias..."
       ]
      },
      {
       "output_type": "stream",
       "stream": "stdout",
       "text": [
        "\r",
        "\tUpdating user exposure bias: time=138.42\n",
        "\tUpdating item exposure bias..."
       ]
      },
      {
       "output_type": "stream",
       "stream": "stdout",
       "text": [
        "\r",
        "\tUpdating item exposure bias: time=116.74\n",
        "\tValidation NDCG@k: 0.1278"
       ]
      },
      {
       "output_type": "stream",
       "stream": "stdout",
       "text": [
        "\n"
       ]
      },
      {
       "output_type": "stream",
       "stream": "stdout",
       "text": [
        "ITERATION #4\n",
        "\tUpdating user CF factors..."
       ]
      },
      {
       "output_type": "stream",
       "stream": "stdout",
       "text": [
        "\r",
        "\tUpdating user CF factors: time=1390.80\n",
        "\tUpdating item CF factors..."
       ]
      },
      {
       "output_type": "stream",
       "stream": "stdout",
       "text": [
        "\r",
        "\tUpdating item CF factors: time=1427.61\n",
        "\tUpdating network influence..."
       ]
      },
      {
       "output_type": "stream",
       "stream": "stdout",
       "text": [
        "\r",
        "\tUpdating network influence: time=365.05\n",
        "\tUpdating user exposure bias..."
       ]
      },
      {
       "output_type": "stream",
       "stream": "stdout",
       "text": [
        "\r",
        "\tUpdating user exposure bias: time=138.05\n",
        "\tUpdating item exposure bias..."
       ]
      },
      {
       "output_type": "stream",
       "stream": "stdout",
       "text": [
        "\r",
        "\tUpdating item exposure bias: time=118.65\n",
        "\tValidation NDCG@k: 0.1298"
       ]
      },
      {
       "output_type": "stream",
       "stream": "stdout",
       "text": [
        "\n"
       ]
      },
      {
       "output_type": "stream",
       "stream": "stdout",
       "text": [
        "ITERATION #5\n",
        "\tUpdating user CF factors..."
       ]
      },
      {
       "output_type": "stream",
       "stream": "stdout",
       "text": [
        "\r",
        "\tUpdating user CF factors: time=1395.52\n",
        "\tUpdating item CF factors..."
       ]
      },
      {
       "output_type": "stream",
       "stream": "stdout",
       "text": [
        "\r",
        "\tUpdating item CF factors: time=1436.76\n",
        "\tUpdating network influence..."
       ]
      },
      {
       "output_type": "stream",
       "stream": "stdout",
       "text": [
        "\r",
        "\tUpdating network influence: time=365.44\n",
        "\tUpdating user exposure bias..."
       ]
      },
      {
       "output_type": "stream",
       "stream": "stdout",
       "text": [
        "\r",
        "\tUpdating user exposure bias: time=141.87\n",
        "\tUpdating item exposure bias..."
       ]
      },
      {
       "output_type": "stream",
       "stream": "stdout",
       "text": [
        "\r",
        "\tUpdating item exposure bias: time=116.85\n",
        "\tValidation NDCG@k: 0.1304"
       ]
      },
      {
       "output_type": "stream",
       "stream": "stdout",
       "text": [
        "\n"
       ]
      },
      {
       "output_type": "stream",
       "stream": "stdout",
       "text": [
        "ITERATION #6\n",
        "\tUpdating user CF factors..."
       ]
      },
      {
       "output_type": "stream",
       "stream": "stdout",
       "text": [
        "\r",
        "\tUpdating user CF factors: time=1394.53\n",
        "\tUpdating item CF factors..."
       ]
      },
      {
       "output_type": "stream",
       "stream": "stdout",
       "text": [
        "\r",
        "\tUpdating item CF factors: time=1432.79\n",
        "\tUpdating network influence..."
       ]
      },
      {
       "output_type": "stream",
       "stream": "stdout",
       "text": [
        "\r",
        "\tUpdating network influence: time=367.39\n",
        "\tUpdating user exposure bias..."
       ]
      },
      {
       "output_type": "stream",
       "stream": "stdout",
       "text": [
        "\r",
        "\tUpdating user exposure bias: time=139.54\n",
        "\tUpdating item exposure bias..."
       ]
      },
      {
       "output_type": "stream",
       "stream": "stdout",
       "text": [
        "\r",
        "\tUpdating item exposure bias: time=119.39\n",
        "\tValidation NDCG@k: 0.1301"
       ]
      },
      {
       "output_type": "stream",
       "stream": "stdout",
       "text": [
        "\n"
       ]
      },
      {
       "metadata": {},
       "output_type": "pyout",
       "prompt_number": 29,
       "text": [
        "PoissonSocialExpoMF(batch_size=500, early_stopping=True, init_std=0.01,\n",
        "          max_iter=20, n_components=100, n_jobs=10, random_state=98765,\n",
        "          save_dir='PoissonSocialExposure_ExpoMF_params_K100_lam1E-05_initmu1E-02',\n",
        "          save_params=True, verbose=True)"
       ]
      }
     ]
    },
    {
     "cell_type": "code",
     "collapsed": false,
     "input": [],
     "language": "python",
     "metadata": {},
     "outputs": []
    }
   ],
   "metadata": {}
  }
 ]
}